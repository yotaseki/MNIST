{
 "cells": [
  {
   "cell_type": "markdown",
   "metadata": {},
   "source": [
    "# 手書き数字認識(MNIST)\n",
    "\n",
    ">**References **\n",
    ">- https://qiita.com/phyblas/items/375ab130e53b0d04f784  \n",
    ">- ゼロから作るディープラーニング  \n",
    "\n"
   ]
  },
  {
   "cell_type": "markdown",
   "metadata": {},
   "source": [
    "---\n",
    "## ①MNISTデータセットの準備  \n",
    "\n",
    "1. [mnistのダウンロード](#sklearnを用いてmnistをダウンロード)\n",
    "1. [描画関数](#描画)\n",
    "1. [データの分割](#訓練用と検証用データに分割)\n",
    "\n",
    "---\n",
    "\n",
    "### sklearnを用いてmnistをダウンロード"
   ]
  },
  {
   "cell_type": "code",
   "execution_count": 1,
   "metadata": {
    "scrolled": false
   },
   "outputs": [
    {
     "name": "stdout",
     "output_type": "stream",
     "text": [
      "(70000, 784)\n",
      "(70000, 10)\n"
     ]
    }
   ],
   "source": [
    "import numpy as np\n",
    "from sklearn import datasets\n",
    "mnist = datasets.fetch_mldata('MNIST original',data_home=\".\")\n",
    "X,Y = mnist.data,mnist.target\n",
    "x = X/255\n",
    "y = np.zeros((int(len(Y)),10)) # one hot label\n",
    "for i in range(len(Y)):\n",
    "    y[i][ int(Y[i]) ] = 1\n",
    "\n",
    "print(X.shape)\n",
    "print(y.shape)"
   ]
  },
  {
   "cell_type": "markdown",
   "metadata": {},
   "source": [
    "\n",
    "### 描画"
   ]
  },
  {
   "cell_type": "code",
   "execution_count": 2,
   "metadata": {},
   "outputs": [
    {
     "name": "stdout",
     "output_type": "stream",
     "text": [
      "[ 1.  0.  0.  0.  0.  0.  0.  0.  0.  0.]\n",
      "[ 0.  1.  0.  0.  0.  0.  0.  0.  0.  0.]\n",
      "[ 0.  0.  1.  0.  0.  0.  0.  0.  0.  0.]\n",
      "[ 0.  0.  0.  1.  0.  0.  0.  0.  0.  0.]\n",
      "[ 0.  0.  0.  0.  1.  0.  0.  0.  0.  0.]\n",
      "[ 0.  0.  0.  0.  0.  1.  0.  0.  0.  0.]\n",
      "[ 0.  0.  0.  0.  0.  0.  1.  0.  0.  0.]\n",
      "[ 0.  0.  0.  0.  0.  0.  0.  1.  0.  0.]\n",
      "[ 0.  0.  0.  0.  0.  0.  0.  0.  1.  0.]\n",
      "[ 0.  0.  0.  0.  0.  0.  0.  0.  0.  1.]\n"
     ]
    },
    {
     "data": {
      "image/png": "[encoded data removed]",
      "text/plain": [
       "<matplotlib.figure.Figure at 0x41994f0>"
      ]
     },
     "metadata": {},
     "output_type": "display_data"
    }
   ],
   "source": [
    "%matplotlib inline\n",
    "import matplotlib.pyplot as plt\n",
    "\n",
    "def plot_number(n):\n",
    "    plt.imshow(X[n].reshape(28,28),cmap='gray_r')\n",
    "    \n",
    "for i in range(10):\n",
    "    plt.subplot(4,3,i+1)\n",
    "    plot_number(30+i*6500)\n",
    "    print(y[30+i*6500])"
   ]
  },
  {
   "cell_type": "markdown",
   "metadata": {},
   "source": [
    "### 訓練用と検証用データに分割"
   ]
  },
  {
   "cell_type": "code",
   "execution_count": 3,
   "metadata": {},
   "outputs": [
    {
     "name": "stdout",
     "output_type": "stream",
     "text": [
      "(60000, 784)\n",
      "(10000, 784)\n",
      "(60000, 10)\n",
      "(10000, 10)\n"
     ]
    }
   ],
   "source": [
    "num_X = len(X)\n",
    "rp = np.random.permutation(num_X)\n",
    "thre = int( num_X * 1/7)\n",
    "\n",
    "train_X, test_X = X[rp[thre:]], X[rp[:thre]]\n",
    "train_y, test_y = y[rp[thre:]], y[rp[:thre]]\n",
    "\n",
    "print(train_X.shape)\n",
    "print(test_X.shape)\n",
    "print(train_y.shape)\n",
    "print(test_y.shape)"
   ]
  },
  {
   "cell_type": "markdown",
   "metadata": {},
   "source": [
    "--- \n",
    "## ②ニューラルネットワークの設計\n",
    "\n",
    "1. [損失関数](#損失関数)\n",
    "\n",
    "---\n",
    "\n",
    "### 損失関数(loss function)\n",
    "\n",
    "- ２乗和誤差\n",
    "\n",
    "\\begin{align}\n",
    "E = \\frac{1}{2}\\sum_{k}(y_k - y_k^*)^2\n",
    "\\end{align}\n",
    "$y_k : $  出力  \n",
    "$y^*_k : $  正解データ"
   ]
  },
  {
   "cell_type": "code",
   "execution_count": 4,
   "metadata": {
    "collapsed": true
   },
   "outputs": [],
   "source": [
    "def mean_squared_error(y,t): # ２乗和誤差\n",
    "    Error = 0.5 * (np.sum((y-t)**2))\n",
    "    return Error"
   ]
  },
  {
   "cell_type": "markdown",
   "metadata": {},
   "source": [
    "* 交差エントロピー\n",
    "\n",
    "\\begin{align}\n",
    "E = - \\sum_k y^*_k \\log{y_k}\n",
    "\\end{align}"
   ]
  },
  {
   "cell_type": "code",
   "execution_count": 5,
   "metadata": {
    "collapsed": true
   },
   "outputs": [],
   "source": [
    "def cross_entropy_error(y,t):\n",
    "    delta = 1e-7\n",
    "    Error = -np.sum( t*np.log(y+delta))\n",
    "    return Error"
   ]
  },
  {
   "cell_type": "code",
   "execution_count": 6,
   "metadata": {},
   "outputs": [
    {
     "name": "stdout",
     "output_type": "stream",
     "text": [
      "0.0975\n",
      "0.510825457099\n"
     ]
    }
   ],
   "source": [
    "# sample\n",
    "t = np.array([0, 0, 1, 0, 0, 0, 0, 0, 0, 0])\n",
    "y = np.array([0.1, 0.05, 0.6, 0.0, 0.05, 0.1, 0.0, 0.1, 0.0, 0.0])\n",
    "print(mean_squared_error(y,t))\n",
    "print(cross_entropy_error(y,t))"
   ]
  },
  {
   "cell_type": "markdown",
   "metadata": {},
   "source": [
    "### ミニバッチ対応(交差エントロピーver)"
   ]
  },
  {
   "cell_type": "code",
   "execution_count": null,
   "metadata": {
    "collapsed": true
   },
   "outputs": [],
   "source": [
    "def loss_function(y,t):\n",
    "    if y.ndim == 1:\n",
    "        t = t.reshape(1, t.size)\n",
    "        y = y.reshape(1, y.size)\n",
    "    \n",
    "    batch_size = y.shape[0]\n",
    "    return cross_entropy_error(y,t) / batch_size"
   ]
  }
 ],
 "metadata": {
  "kernelspec": {
   "display_name": "Python 3",
   "language": "python",
   "name": "python3"
  },
  "language_info": {
   "codemirror_mode": {
    "name": "ipython",
    "version": 3
   },
   "file_extension": ".py",
   "mimetype": "text/x-python",
   "name": "python",
   "nbconvert_exporter": "python",
   "pygments_lexer": "ipython3",
   "version": "3.5.4"
  }
 },
 "nbformat": 4,
 "nbformat_minor": 2
}
